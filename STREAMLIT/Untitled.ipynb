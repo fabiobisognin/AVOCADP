{
 "cells": [
  {
   "cell_type": "code",
   "execution_count": 1,
   "id": "instant-equilibrium",
   "metadata": {},
   "outputs": [
    {
     "ename": "FileNotFoundError",
     "evalue": "[Errno 2] No such file or directory: 'lin_reg.pkl'",
     "output_type": "error",
     "traceback": [
      "\u001b[0;31m---------------------------------------------------------------------------\u001b[0m",
      "\u001b[0;31mFileNotFoundError\u001b[0m                         Traceback (most recent call last)",
      "\u001b[0;32m<ipython-input-1-92cb864f211c>\u001b[0m in \u001b[0;36m<module>\u001b[0;34m\u001b[0m\n\u001b[1;32m      4\u001b[0m \u001b[0;34m\u001b[0m\u001b[0m\n\u001b[1;32m      5\u001b[0m \u001b[0;31m#Extrar los archivos pickle\u001b[0m\u001b[0;34m\u001b[0m\u001b[0;34m\u001b[0m\u001b[0;34m\u001b[0m\u001b[0m\n\u001b[0;32m----> 6\u001b[0;31m \u001b[0;32mwith\u001b[0m \u001b[0mopen\u001b[0m\u001b[0;34m(\u001b[0m\u001b[0;34m'lin_reg.pkl'\u001b[0m\u001b[0;34m,\u001b[0m \u001b[0;34m'rb'\u001b[0m\u001b[0;34m)\u001b[0m \u001b[0;32mas\u001b[0m \u001b[0mli\u001b[0m\u001b[0;34m:\u001b[0m\u001b[0;34m\u001b[0m\u001b[0;34m\u001b[0m\u001b[0m\n\u001b[0m\u001b[1;32m      7\u001b[0m     \u001b[0mlin_reg\u001b[0m \u001b[0;34m=\u001b[0m \u001b[0mpickle\u001b[0m\u001b[0;34m.\u001b[0m\u001b[0mload\u001b[0m\u001b[0;34m(\u001b[0m\u001b[0mli\u001b[0m\u001b[0;34m)\u001b[0m\u001b[0;34m\u001b[0m\u001b[0;34m\u001b[0m\u001b[0m\n\u001b[1;32m      8\u001b[0m \u001b[0;34m\u001b[0m\u001b[0m\n",
      "\u001b[0;31mFileNotFoundError\u001b[0m: [Errno 2] No such file or directory: 'lin_reg.pkl'"
     ]
    }
   ],
   "source": [
    "import streamlit as st\n",
    "import pickle\n",
    "import pandas as pd\n",
    "\n",
    "#Extrar los archivos pickle\n",
    "with open('lin_reg.pkl', 'rb') as li:\n",
    "    lin_reg = pickle.load(li)\n",
    "\n",
    "with open('log_reg.pkl', 'rb') as lo:\n",
    "    log_reg = pickle.load(lo)\n",
    "\n",
    "with open('svc_m.pkl', 'rb') as sv:\n",
    "    svc_m = pickle.load(sv)\n",
    "\n",
    "\n",
    "#funcion para clasificar las plantas \n",
    "def classify(num):\n",
    "    if num == 0:\n",
    "        return 'Setosa'\n",
    "    elif num == 1:\n",
    "        return 'Versicolor'\n",
    "    else:\n",
    "        return 'Virginica'\n",
    "\n",
    "def main():\n",
    "    #titulo\n",
    "    st.title('Modelamiento de Iris by @L33PIF')\n",
    "    #titulo de sidebar\n",
    "    st.sidebar.header('User Input Parameters')\n",
    "\n",
    "    #funcion para poner los parametrso en el sidebar\n",
    "    def user_input_parameters():\n",
    "        sepal_length = st.sidebar.slider('Sepal length', 4.3, 7.9, 5.4)\n",
    "        sepal_width = st.sidebar.slider('Sepal width', 2.0, 4.4, 3.4)\n",
    "        petal_length = st.sidebar.slider('Petal length', 1.0, 6.9, 1.3)\n",
    "        petal_width = st.sidebar.slider('Petal width', 0.1, 2.5, 0.2)\n",
    "        data = {'sepal_length': sepal_length,\n",
    "                'sepal_width': sepal_width,\n",
    "                'petal_length': petal_length,\n",
    "                'petal_width': petal_width,\n",
    "                }\n",
    "        features = pd.DataFrame(data, index=[0])\n",
    "        return features\n",
    "\n",
    "    df = user_input_parameters()\n",
    "\n",
    "    #escoger el modelo preferido\n",
    "    option = ['Linear Regression', 'Logistic Regression', 'SVM']\n",
    "    model = st.sidebar.selectbox('Which model you like to use?', option)\n",
    "\n",
    "    st.subheader('User Input Parameters')\n",
    "    st.subheader(model)\n",
    "    st.write(df)\n",
    "\n",
    "    if st.button('RUN'):\n",
    "        if model == 'Linear Regression':\n",
    "            st.success(classify(lin_reg.predict(df)))\n",
    "        elif model == 'Logistic Regression':\n",
    "            st.success(classify(log_reg.predict(df)))\n",
    "        else:\n",
    "            st.success(classify(svc_m.predict(df)))\n",
    "\n",
    "\n",
    "if __name__ == '__main__':\n",
    "    main()"
   ]
  },
  {
   "cell_type": "code",
   "execution_count": null,
   "id": "cooperative-characterization",
   "metadata": {},
   "outputs": [],
   "source": []
  }
 ],
 "metadata": {
  "hide_input": false,
  "kernelspec": {
   "display_name": "Python 3",
   "language": "python",
   "name": "python3"
  },
  "language_info": {
   "codemirror_mode": {
    "name": "ipython",
    "version": 3
   },
   "file_extension": ".py",
   "mimetype": "text/x-python",
   "name": "python",
   "nbconvert_exporter": "python",
   "pygments_lexer": "ipython3",
   "version": "3.8.6"
  },
  "varInspector": {
   "cols": {
    "lenName": 16,
    "lenType": 16,
    "lenVar": 40
   },
   "kernels_config": {
    "python": {
     "delete_cmd_postfix": "",
     "delete_cmd_prefix": "del ",
     "library": "var_list.py",
     "varRefreshCmd": "print(var_dic_list())"
    },
    "r": {
     "delete_cmd_postfix": ") ",
     "delete_cmd_prefix": "rm(",
     "library": "var_list.r",
     "varRefreshCmd": "cat(var_dic_list()) "
    }
   },
   "types_to_exclude": [
    "module",
    "function",
    "builtin_function_or_method",
    "instance",
    "_Feature"
   ],
   "window_display": false
  }
 },
 "nbformat": 4,
 "nbformat_minor": 5
}

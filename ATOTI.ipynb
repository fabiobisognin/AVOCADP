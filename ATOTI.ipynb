{
 "cells": [
  {
   "cell_type": "code",
   "execution_count": 1,
   "id": "photographic-clinton",
   "metadata": {},
   "outputs": [],
   "source": [
    "import pandas as pd\n",
    "import atoti as tt"
   ]
  },
  {
   "cell_type": "code",
   "execution_count": 2,
   "id": "improving-domestic",
   "metadata": {},
   "outputs": [],
   "source": [
    "session= tt.create_session()"
   ]
  },
  {
   "cell_type": "code",
   "execution_count": 3,
   "id": "nervous-forwarding",
   "metadata": {
    "scrolled": true
   },
   "outputs": [
    {
     "name": "stderr",
     "output_type": "stream",
     "text": [
      "The store has been sampled because there are more than 10000 lines in the files to load and the appended lines. Call Session.load_all_data() to trigger the full load of the data.\n"
     ]
    }
   ],
   "source": [
    "avocado=session.read_csv('/Users/fabiobisognin/Desktop/avocado-updated-2020.csv')"
   ]
  },
  {
   "cell_type": "code",
   "execution_count": 4,
   "id": "existing-butler",
   "metadata": {},
   "outputs": [],
   "source": [
    "session.load_all_data()\n"
   ]
  },
  {
   "cell_type": "code",
   "execution_count": 5,
   "id": "affiliated-friendship",
   "metadata": {},
   "outputs": [
    {
     "data": {
      "text/html": [
       "<div>\n",
       "<style scoped>\n",
       "    .dataframe tbody tr th:only-of-type {\n",
       "        vertical-align: middle;\n",
       "    }\n",
       "\n",
       "    .dataframe tbody tr th {\n",
       "        vertical-align: top;\n",
       "    }\n",
       "\n",
       "    .dataframe thead th {\n",
       "        text-align: right;\n",
       "    }\n",
       "</style>\n",
       "<table border=\"1\" class=\"dataframe\">\n",
       "  <thead>\n",
       "    <tr style=\"text-align: right;\">\n",
       "      <th></th>\n",
       "      <th>date</th>\n",
       "      <th>average_price</th>\n",
       "      <th>total_volume</th>\n",
       "      <th>4046</th>\n",
       "      <th>4225</th>\n",
       "      <th>4770</th>\n",
       "      <th>total_bags</th>\n",
       "      <th>small_bags</th>\n",
       "      <th>large_bags</th>\n",
       "      <th>xlarge_bags</th>\n",
       "      <th>type</th>\n",
       "      <th>year</th>\n",
       "      <th>geography</th>\n",
       "    </tr>\n",
       "  </thead>\n",
       "  <tbody>\n",
       "    <tr>\n",
       "      <th>0</th>\n",
       "      <td>2018-07-01</td>\n",
       "      <td>1.41</td>\n",
       "      <td>44587.04</td>\n",
       "      <td>1195.26</td>\n",
       "      <td>5264.14</td>\n",
       "      <td>64.61</td>\n",
       "      <td>38063.03</td>\n",
       "      <td>38049.69</td>\n",
       "      <td>13.34</td>\n",
       "      <td>0.00</td>\n",
       "      <td>organic</td>\n",
       "      <td>2018</td>\n",
       "      <td>Baltimore/Washington</td>\n",
       "    </tr>\n",
       "    <tr>\n",
       "      <th>1</th>\n",
       "      <td>2015-01-04</td>\n",
       "      <td>1.22</td>\n",
       "      <td>40873.28</td>\n",
       "      <td>2819.50</td>\n",
       "      <td>28287.42</td>\n",
       "      <td>49.90</td>\n",
       "      <td>9716.46</td>\n",
       "      <td>9186.93</td>\n",
       "      <td>529.53</td>\n",
       "      <td>0.00</td>\n",
       "      <td>conventional</td>\n",
       "      <td>2015</td>\n",
       "      <td>Albany</td>\n",
       "    </tr>\n",
       "    <tr>\n",
       "      <th>2</th>\n",
       "      <td>2018-07-01</td>\n",
       "      <td>1.20</td>\n",
       "      <td>109983.73</td>\n",
       "      <td>46961.21</td>\n",
       "      <td>4526.51</td>\n",
       "      <td>12754.96</td>\n",
       "      <td>45741.05</td>\n",
       "      <td>25753.24</td>\n",
       "      <td>19960.70</td>\n",
       "      <td>27.11</td>\n",
       "      <td>conventional</td>\n",
       "      <td>2018</td>\n",
       "      <td>Boise</td>\n",
       "    </tr>\n",
       "    <tr>\n",
       "      <th>3</th>\n",
       "      <td>2015-01-04</td>\n",
       "      <td>1.79</td>\n",
       "      <td>1373.95</td>\n",
       "      <td>57.42</td>\n",
       "      <td>153.88</td>\n",
       "      <td>0.00</td>\n",
       "      <td>1162.65</td>\n",
       "      <td>1162.65</td>\n",
       "      <td>0.00</td>\n",
       "      <td>0.00</td>\n",
       "      <td>organic</td>\n",
       "      <td>2015</td>\n",
       "      <td>Albany</td>\n",
       "    </tr>\n",
       "    <tr>\n",
       "      <th>4</th>\n",
       "      <td>2018-07-01</td>\n",
       "      <td>1.81</td>\n",
       "      <td>3272.78</td>\n",
       "      <td>0.00</td>\n",
       "      <td>1060.01</td>\n",
       "      <td>0.00</td>\n",
       "      <td>2212.77</td>\n",
       "      <td>616.27</td>\n",
       "      <td>1587.46</td>\n",
       "      <td>9.04</td>\n",
       "      <td>organic</td>\n",
       "      <td>2018</td>\n",
       "      <td>Boise</td>\n",
       "    </tr>\n",
       "  </tbody>\n",
       "</table>\n",
       "</div>"
      ],
      "text/plain": [
       "        date  average_price  total_volume      4046      4225      4770  \\\n",
       "0 2018-07-01           1.41      44587.04   1195.26   5264.14     64.61   \n",
       "1 2015-01-04           1.22      40873.28   2819.50  28287.42     49.90   \n",
       "2 2018-07-01           1.20     109983.73  46961.21   4526.51  12754.96   \n",
       "3 2015-01-04           1.79       1373.95     57.42    153.88      0.00   \n",
       "4 2018-07-01           1.81       3272.78      0.00   1060.01      0.00   \n",
       "\n",
       "   total_bags  small_bags  large_bags  xlarge_bags          type  year  \\\n",
       "0    38063.03    38049.69       13.34         0.00       organic  2018   \n",
       "1     9716.46     9186.93      529.53         0.00  conventional  2015   \n",
       "2    45741.05    25753.24    19960.70        27.11  conventional  2018   \n",
       "3     1162.65     1162.65        0.00         0.00       organic  2015   \n",
       "4     2212.77      616.27     1587.46         9.04       organic  2018   \n",
       "\n",
       "              geography  \n",
       "0  Baltimore/Washington  \n",
       "1                Albany  \n",
       "2                 Boise  \n",
       "3                Albany  \n",
       "4                 Boise  "
      ]
     },
     "execution_count": 5,
     "metadata": {},
     "output_type": "execute_result"
    }
   ],
   "source": [
    "avocado.head()\n"
   ]
  },
  {
   "cell_type": "code",
   "execution_count": 6,
   "id": "sticky-irrigation",
   "metadata": {},
   "outputs": [],
   "source": [
    "cube= session.create_cube(avocado, name= 'avocado')\n"
   ]
  },
  {
   "cell_type": "code",
   "execution_count": 7,
   "id": "artistic-poster",
   "metadata": {},
   "outputs": [
    {
     "data": {
      "text/plain": [
       "'http://localhost:53488'"
      ]
     },
     "execution_count": 7,
     "metadata": {},
     "output_type": "execute_result"
    }
   ],
   "source": [
    "session.url"
   ]
  },
  {
   "cell_type": "code",
   "execution_count": null,
   "id": "81b2af7b-491e-463a-a3fd-dde693947247",
   "metadata": {},
   "outputs": [],
   "source": []
  },
  {
   "cell_type": "code",
   "execution_count": null,
   "id": "certain-layout",
   "metadata": {},
   "outputs": [],
   "source": []
  }
 ],
 "metadata": {
  "hide_input": false,
  "kernelspec": {
   "display_name": "Python 3",
   "language": "python",
   "name": "python3"
  },
  "language_info": {
   "codemirror_mode": {
    "name": "ipython",
    "version": 3
   },
   "file_extension": ".py",
   "mimetype": "text/x-python",
   "name": "python",
   "nbconvert_exporter": "python",
   "pygments_lexer": "ipython3",
   "version": "3.8.6"
  },
  "varInspector": {
   "cols": {
    "lenName": 16,
    "lenType": 16,
    "lenVar": 40
   },
   "kernels_config": {
    "python": {
     "delete_cmd_postfix": "",
     "delete_cmd_prefix": "del ",
     "library": "var_list.py",
     "varRefreshCmd": "print(var_dic_list())"
    },
    "r": {
     "delete_cmd_postfix": ") ",
     "delete_cmd_prefix": "rm(",
     "library": "var_list.r",
     "varRefreshCmd": "cat(var_dic_list()) "
    }
   },
   "types_to_exclude": [
    "module",
    "function",
    "builtin_function_or_method",
    "instance",
    "_Feature"
   ],
   "window_display": false
  }
 },
 "nbformat": 4,
 "nbformat_minor": 5
}
